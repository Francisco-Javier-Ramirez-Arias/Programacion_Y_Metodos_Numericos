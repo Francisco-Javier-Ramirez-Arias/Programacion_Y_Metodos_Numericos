{
  "nbformat": 4,
  "nbformat_minor": 0,
  "metadata": {
    "colab": {
      "provenance": []
    },
    "kernelspec": {
      "name": "python3",
      "display_name": "Python 3"
    },
    "language_info": {
      "name": "python"
    }
  },
  "cells": [
    {
      "cell_type": "code",
      "execution_count": null,
      "metadata": {
        "colab": {
          "base_uri": "https://localhost:8080/"
        },
        "id": "kNNSorGsAKa3",
        "outputId": "1b14b3a8-ae94-440d-809f-4b20a19ab960"
      },
      "outputs": [
        {
          "output_type": "stream",
          "name": "stdout",
          "text": [
            "Aproximación de la raíz: 2.0945513981181274\n",
            "Iteraciones realizadas: 13\n"
          ]
        }
      ],
      "source": [
        "def regla_falsa(f, a, b, tol, max_iter):\n",
        "    \"\"\"\n",
        "    Método de la regla falsa para encontrar una aproximación de la raíz de una función.\n",
        "\n",
        "    Parámetros:\n",
        "    - f: función para la cual se busca la raíz.\n",
        "    - a, b: extremos del intervalo inicial [a, b].\n",
        "    - tol: tolerancia para la aproximación de la raíz.\n",
        "    - max_iter: número máximo de iteraciones permitidas.\n",
        "\n",
        "    Retorna:\n",
        "    - x: aproximación de la raíz de la función.\n",
        "    - iter_count: número de iteraciones realizadas.\n",
        "    \"\"\"\n",
        "\n",
        "    if f(a) * f(b) > 0:\n",
        "        raise ValueError(\"La función no cambia de signo en el intervalo dado.\")\n",
        "\n",
        "    iter_count = 0\n",
        "    while iter_count < max_iter:\n",
        "        # Calculamos el valor de x utilizando la fórmula de la regla falsa\n",
        "        x = b - (b - a) / (f(b) - f(a)) * f(b)\n",
        "\n",
        "        # Evaluamos la función en x\n",
        "        fx = f(x)\n",
        "\n",
        "        # Verificamos si la aproximación es suficientemente buena\n",
        "        if abs(fx) < tol:\n",
        "            return x, iter_count\n",
        "\n",
        "        # Actualizamos el intervalo [a, b]\n",
        "        if f(a) * fx < 0:\n",
        "            b = x\n",
        "        else:\n",
        "            a = x\n",
        "\n",
        "        iter_count += 1\n",
        "\n",
        "    raise ValueError(\"El método no convergió después de {} iteraciones.\".format(max_iter))\n",
        "\n",
        "# Definimos la función f(x)\n",
        "def f(x):\n",
        "    return x**3 - 2*x - 5\n",
        "\n",
        "# Intervalo inicial\n",
        "a = 2\n",
        "b = 3\n",
        "\n",
        "# Tolerancia y número máximo de iteraciones\n",
        "tol = 1e-6\n",
        "max_iter = 100\n",
        "\n",
        "# Aplicamos el método de la regla falsa\n",
        "try:\n",
        "    raiz, iteraciones = regla_falsa(f, a, b, tol, max_iter)\n",
        "    print(f\"Aproximación de la raíz: {raiz}\")\n",
        "    print(f\"Iteraciones realizadas: {iteraciones}\")\n",
        "except ValueError as e:\n",
        "    print(e)\n",
        "\n"
      ]
    },
    {
      "cell_type": "code",
      "source": [
        "import math\n",
        "\n",
        "def regla_falsa(f, a, b, tol, max_iter):\n",
        "    \"\"\"\n",
        "    Método de la regla falsa para encontrar una aproximación de la raíz de una función.\n",
        "\n",
        "    Parámetros:\n",
        "    - f: función para la cual se busca la raíz.\n",
        "    - a, b: extremos del intervalo inicial [a, b].\n",
        "    - tol: tolerancia para la aproximación de la raíz.\n",
        "    - max_iter: número máximo de iteraciones permitidas.\n",
        "\n",
        "    Retorna:\n",
        "    - x: aproximación de la raíz de la función.\n",
        "    - iter_count: número de iteraciones realizadas.\n",
        "    \"\"\"\n",
        "\n",
        "    if f(a) * f(b) > 0:\n",
        "        raise ValueError(\"La función no cambia de signo en el intervalo dado.\")\n",
        "\n",
        "    for iter_count in range(max_iter):\n",
        "        # Calculamos el valor de x utilizando la fórmula de la regla falsa\n",
        "        x = b - (b - a) / (f(b) - f(a)) * f(b)\n",
        "\n",
        "        # Evaluamos la función en x\n",
        "        fx = f(x)\n",
        "\n",
        "        # Verificamos si la aproximación es suficientemente buena\n",
        "        if abs(fx) < tol:\n",
        "            return x, iter_count + 1\n",
        "\n",
        "        # Actualizamos el intervalo [a, b]\n",
        "        if f(a) * fx < 0:\n",
        "            b = x\n",
        "        else:\n",
        "            a = x\n",
        "\n",
        "    raise ValueError(\"El método no convergió después de {} iteraciones.\".format(max_iter))\n",
        "\n",
        "# Definimos la función f(x)\n",
        "def f(x):\n",
        "    return math.exp(x) - x**2 + 3*x - 2\n",
        "\n",
        "# Intervalo inicial\n",
        "a = -2\n",
        "b = 2\n",
        "\n",
        "# Tolerancia y número máximo de iteraciones\n",
        "tol = 1e-6\n",
        "max_iter = 100\n",
        "\n",
        "# Aplicamos el método de la regla falsa\n",
        "try:\n",
        "    raiz, iteraciones = regla_falsa(f, a, b, tol, max_iter)\n",
        "    print(f\"Aproximación de la raíz: {raiz}\")\n",
        "    print(f\"Iteraciones realizadas: {iteraciones}\")\n",
        "except ValueError as e:\n",
        "    print(e)\n"
      ],
      "metadata": {
        "id": "Ka0nWYclAsY5",
        "outputId": "55365f04-7232-4499-e3e4-adb955d8bb59",
        "colab": {
          "base_uri": "https://localhost:8080/"
        }
      },
      "execution_count": null,
      "outputs": [
        {
          "output_type": "stream",
          "name": "stdout",
          "text": [
            "Aproximación de la raíz: 0.25753045959243814\n",
            "Iteraciones realizadas: 12\n"
          ]
        }
      ]
    }
  ]
}