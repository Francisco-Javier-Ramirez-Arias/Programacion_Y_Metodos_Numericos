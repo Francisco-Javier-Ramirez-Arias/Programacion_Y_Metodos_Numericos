{
  "nbformat": 4,
  "nbformat_minor": 0,
  "metadata": {
    "colab": {
      "provenance": []
    },
    "kernelspec": {
      "name": "python3",
      "display_name": "Python 3"
    },
    "language_info": {
      "name": "python"
    }
  },
  "cells": [
    {
      "cell_type": "markdown",
      "source": [
        "**Método numérico que nos permite realizar interpolación, por medio del método de Lagrange.**"
      ],
      "metadata": {
        "id": "p62AQ_DLNf9-"
      }
    },
    {
      "cell_type": "code",
      "execution_count": 2,
      "metadata": {
        "id": "cRE0LCuyMWEA"
      },
      "outputs": [],
      "source": [
        "# Función que calcula los polinomios de Lagrange\n",
        "def lagrange_interpol(x, X, Y):\n",
        "  n = len(X)\n",
        "  result = 0\n",
        "\n",
        "  for i in range(n):\n",
        "    term = Y[i]\n",
        "    for j in range(n):\n",
        "      if i != j:\n",
        "        term *= (x - X[j]) / (X[i] - X[j])\n",
        "    result += term\n",
        "  return result"
      ]
    },
    {
      "cell_type": "code",
      "source": [
        "# Ejemplo\n",
        "# Datosde entrada\n",
        "\n",
        "X = [1, 2, 3]\n",
        "Y = [1, 4, 9]\n",
        "\n",
        "# Punto de Interpolacion\n",
        "x_val = 2.5\n",
        "print(lagrange_interpol(x_val, X, Y))"
      ],
      "metadata": {
        "colab": {
          "base_uri": "https://localhost:8080/"
        },
        "id": "7_QkkrqjNBbO",
        "outputId": "b2a73583-5496-419b-ad5b-5f604525cb2d"
      },
      "execution_count": 4,
      "outputs": [
        {
          "output_type": "stream",
          "name": "stdout",
          "text": [
            "6.25\n"
          ]
        }
      ]
    },
    {
      "cell_type": "markdown",
      "source": [],
      "metadata": {
        "id": "j6oe4U-6MZsf"
      }
    }
  ]
}