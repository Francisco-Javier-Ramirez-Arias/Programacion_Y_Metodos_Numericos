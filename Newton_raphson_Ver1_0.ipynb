{
  "nbformat": 4,
  "nbformat_minor": 0,
  "metadata": {
    "colab": {
      "provenance": []
    },
    "kernelspec": {
      "name": "python3",
      "display_name": "Python 3"
    },
    "language_info": {
      "name": "python"
    }
  },
  "cells": [
    {
      "cell_type": "code",
      "execution_count": 1,
      "metadata": {
        "id": "7N-GPShNYfJJ"
      },
      "outputs": [],
      "source": [
        "##Función que implementa el método de Newton-Raphson\n",
        "##Es una de las diferentes alternativas.\n",
        "def newton_raphson(f, df, x0, tol=1e-6, max_iter=100):\n",
        "    for i in range(max_iter):\n",
        "        fx = f(x0)\n",
        "        dfx = df(x0)\n",
        "        if abs(fx) < tol:\n",
        "            return x0\n",
        "        x0 = x0 - fx / dfx\n",
        "    return None"
      ]
    },
    {
      "cell_type": "code",
      "source": [
        "# Ejemplo del uso del método numérico\n",
        "# Ejemplo: f(x) = x^2 - 2, f'(x) = 2x\n",
        "resultado = newton_raphson(lambda x: x**2 - 2, lambda x: 2*x, 1.5)\n",
        "print(f'La raíz aproximada es: {resultado}')"
      ],
      "metadata": {
        "colab": {
          "base_uri": "https://localhost:8080/"
        },
        "id": "RLqAbbtDYka4",
        "outputId": "89516b43-18b8-4581-c7cc-b18668f4d921"
      },
      "execution_count": 2,
      "outputs": [
        {
          "output_type": "stream",
          "name": "stdout",
          "text": [
            "La raíz aproximada es: 1.4142135623746899\n"
          ]
        }
      ]
    }
  ]
}