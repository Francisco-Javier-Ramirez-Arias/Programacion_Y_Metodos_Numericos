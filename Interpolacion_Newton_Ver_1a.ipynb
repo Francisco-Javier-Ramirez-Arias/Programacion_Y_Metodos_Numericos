{
  "nbformat": 4,
  "nbformat_minor": 0,
  "metadata": {
    "colab": {
      "provenance": []
    },
    "kernelspec": {
      "name": "python3",
      "display_name": "Python 3"
    },
    "language_info": {
      "name": "python"
    }
  },
  "cells": [
    {
      "cell_type": "code",
      "execution_count": 1,
      "metadata": {
        "colab": {
          "base_uri": "https://localhost:8080/"
        },
        "id": "B7nc5xeIVMKI",
        "outputId": "1fb2ed40-94f8-44ee-ebe3-855f9e45bec1"
      },
      "outputs": [
        {
          "output_type": "stream",
          "name": "stdout",
          "text": [
            "El valor del polinomio en x = 3 es 10.0000\n"
          ]
        }
      ],
      "source": [
        "import numpy as np\n",
        "\n",
        "def diferencias_divididas(x, y):\n",
        "    \"\"\"\n",
        "    Calcula la tabla de diferencias divididas de Newton.\n",
        "\n",
        "    :param x: Lista de valores de x.\n",
        "    :param y: Lista de valores de y (f(x)).\n",
        "    :return: Lista de listas con la tabla de diferencias divididas.\n",
        "    \"\"\"\n",
        "    n = len(x)\n",
        "    tabla = np.zeros((n, n))\n",
        "    tabla[:, 0] = y  # Primera columna es f(x)\n",
        "\n",
        "    # Calcular las diferencias divididas\n",
        "    for j in range(1, n):\n",
        "        for i in range(n - j):\n",
        "            tabla[i][j] = (tabla[i+1][j-1] - tabla[i][j-1]) / (x[i+j] - x[i])\n",
        "\n",
        "    return tabla\n",
        "\n",
        "def polinomio_newton(x, y, valor):\n",
        "    \"\"\"\n",
        "    Evalúa el polinomio de Newton en un valor dado.\n",
        "\n",
        "    :param x: Lista de valores de x.\n",
        "    :param y: Lista de valores de y (f(x)).\n",
        "    :param valor: El valor en el cual evaluar el polinomio.\n",
        "    :return: El valor del polinomio evaluado en 'valor'.\n",
        "    \"\"\"\n",
        "    # Obtener la tabla de diferencias divididas\n",
        "    tabla = diferencias_divididas(x, y)\n",
        "    n = len(x)\n",
        "    # El valor inicial del polinomio es el primer valor de f(x)\n",
        "    resultado = tabla[0, 0]\n",
        "    # Variable para acumular los productos (x - x_0)(x - x_1)...\n",
        "    producto = 1.0\n",
        "\n",
        "    # Construcción del polinomio utilizando las diferencias divididas\n",
        "    for i in range(1, n):\n",
        "        producto *= (valor - x[i-1])\n",
        "        resultado += tabla[0, i] * producto\n",
        "\n",
        "    return resultado\n",
        "\n",
        "# Ejemplo de uso\n",
        "x = [1, 2, 4]\n",
        "y = [2, 5, 17]\n",
        "\n",
        "# Evaluar el polinomio en un punto, por ejemplo x = 3\n",
        "valor = 3\n",
        "resultado = polinomio_newton(x, y, valor)\n",
        "print(f\"El valor del polinomio en x = {valor} es {resultado:.4f}\")\n"
      ]
    }
  ]
}