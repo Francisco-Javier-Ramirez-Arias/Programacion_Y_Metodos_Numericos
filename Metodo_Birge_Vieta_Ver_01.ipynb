{
  "nbformat": 4,
  "nbformat_minor": 0,
  "metadata": {
    "colab": {
      "provenance": []
    },
    "kernelspec": {
      "name": "python3",
      "display_name": "Python 3"
    },
    "language_info": {
      "name": "python"
    }
  },
  "cells": [
    {
      "cell_type": "markdown",
      "source": [
        "# **Explicación del Método de Birge-Vieta**\n",
        "\n",
        "\n",
        "1.   **Entrada:**\n",
        "  * coefs: Los coeficientes en orden descendente de grado.\n",
        "  *x0: La aproximación inicial de la raíz.\n",
        "  * tol: La tolerancia para detener el algoritmo una vez que la diferencia entre iteraciones consecutivas es ppequeña.\n",
        "  *max_iter: Número máximo de iteraciones permitidas.\n",
        "\n",
        "2.   **División sintética:**\n",
        "  * En cada iteración, el código realiza la división sintética para calcular el valor del polinomio y su derivada en la aproximación actual x.\n",
        "\n",
        "3. **Fórmula de Corrección**\n",
        "  * El vallor de x se actualiza con la fórmula:\n",
        "  \\begin{equation}\n",
        "  x_{n+1}=x_n-\\frac{P(x_n)}{P'(x_n)}\n",
        "\\end{equation}\n",
        "\n",
        "4. **Condición de parada:**\n",
        "  * Si la diferencia entre la nueva aproximación y la anterior es menor que la tolerancia (tol), el algoritmo se detiene.\n",
        "\n",
        "5. **Salida:**\n",
        "  * El código devuelve la raíz aproximada y el número de iteraciones realizadas.\n",
        "\n",
        "\n",
        "\n",
        "\n",
        "\n",
        "\n"
      ],
      "metadata": {
        "id": "lT0ETRrKs5xG"
      }
    },
    {
      "cell_type": "code",
      "execution_count": null,
      "metadata": {
        "id": "YAxNYmOjsrrN"
      },
      "outputs": [],
      "source": [
        "import numpy as np\n",
        "\n",
        "def birge_vieta(coefs, x0, tol=1e-6, max_iter=100):\n",
        "    \"\"\"\n",
        "    Implementa el método de Birge-Vieta para encontrar raíces de polinomios.\n",
        "\n",
        "    Parámetros:\n",
        "    - coefs: Coeficientes del polinomio de mayor a menor grado.\n",
        "    - x0: Aproximación inicial de la raíz.\n",
        "    - tol: Tolerancia para la convergencia.\n",
        "    - max_iter: Número máximo de iteraciones.\n",
        "\n",
        "    Retorna:\n",
        "    - x: Aproximación de la raíz.\n",
        "    - iteraciones: Número de iteraciones realizadas.\n",
        "    \"\"\"\n",
        "    n = len(coefs) - 1  # Grado del polinomio\n",
        "    x = x0  # Aproximación inicial\n",
        "\n",
        "    for iteracion in range(max_iter):\n",
        "        # División sintética\n",
        "        b = [0] * (n + 1)\n",
        "        b[0] = coefs[0]\n",
        "        for i in range(1, n + 1):\n",
        "            b[i] = coefs[i] + x * b[i - 1]\n",
        "\n",
        "        # Evaluamos el polinomio y su derivada en x\n",
        "        P_x = b[n]\n",
        "        b_prime = [0] * n\n",
        "        b_prime[0] = coefs[0]\n",
        "        for i in range(1, n):\n",
        "            b_prime[i] = b[i] + x * b_prime[i - 1]\n",
        "        P_prime_x = b_prime[n - 1]\n",
        "\n",
        "        # Actualizamos la aproximación usando la fórmula de corrección\n",
        "        if P_prime_x == 0:  # Evitar división por cero\n",
        "            print(\"Error: la derivada se anuló. Deteniendo iteraciones.\")\n",
        "            return None, iteracion\n",
        "\n",
        "        x_new = x - P_x / P_prime_x\n",
        "\n",
        "        # Verificamos si la aproximación ha convergido\n",
        "        if abs(x_new - x) < tol:\n",
        "            return x_new, iteracion + 1\n",
        "\n",
        "        x = x_new\n",
        "\n",
        "    print(\"Advertencia: Se alcanzó el número máximo de iteraciones.\")\n",
        "    return x, max_iter\n"
      ]
    },
    {
      "cell_type": "markdown",
      "source": [
        "#Uso del Método de Birge-Vieta\n",
        "\n",
        "En esencia, este código define un polinomio, proporciona una aproximación inicial, utiliza el método Birge-Vieta para encontrar la raíz a través de la función birge_vieta, y despliega el resultado."
      ],
      "metadata": {
        "id": "sNGpIbGTtGyu"
      }
    },
    {
      "cell_type": "code",
      "source": [
        "# Coeficientes del polinomio P(x) = x^3 - 6x^2 + 11x - 6\n",
        "coefs = [1, -6, 11, -6]\n",
        "\n",
        "# Aproximación inicial\n",
        "x0 = 3\n",
        "\n",
        "# Llamamos a la función Birge-Vieta\n",
        "raiz, iteraciones = birge_vieta(coefs, x0)\n",
        "\n",
        "# Mostramos el resultado\n",
        "if raiz is not None:\n",
        "    print(f\"Raíz aproximada: {raiz:.6f}\")\n",
        "    print(f\"Número de iteraciones: {iteraciones}\")\n",
        "else:\n",
        "    print(\"No se encontró una raíz.\")"
      ],
      "metadata": {
        "id": "lk6mquiOs4RN"
      },
      "execution_count": null,
      "outputs": []
    }
  ]
}